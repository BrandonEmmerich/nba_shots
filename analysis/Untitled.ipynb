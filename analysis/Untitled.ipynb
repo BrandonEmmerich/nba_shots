{
 "cells": [
  {
   "cell_type": "markdown",
   "metadata": {},
   "source": [
    "# NBA Shot Expectation Value Analysis\n",
    "\n",
    "Not all shots are created equal.\n",
    "\n",
    "Anyone who has ever yelled, \"Don't Shoot, don't shoot... nice shot.\" at their TV has an intuitive sense that there is a difference between the outcome and decision quality for each shot. With access to NBA shot log data we are able to quantify the difference between process and outcomes for player in the aggregate to answer the questions: who takes good shots, who makes tough shots?\n",
    "\n",
    "To collect the shot log data, you can run these programs from the command line:\n",
    "\n",
    "`python get_player_ids.py`\n",
    "\n",
    "`python get_shot_data.py`\n",
    "\n",
    "The first program collects the player ID for each player in the 2018-19 NBA season which is an input for collecting total shot logs for each player.\n",
    "\n",
    "## Analysis\n",
    "\n",
    "Steph Curry, James Harden, Kevin Durant, and Klay Thompson are really good. So is Buddy Hield."
   ]
  },
  {
   "cell_type": "code",
   "execution_count": null,
   "metadata": {},
   "outputs": [],
   "source": []
  }
 ],
 "metadata": {
  "kernelspec": {
   "display_name": "Python 3",
   "language": "python",
   "name": "python3"
  },
  "language_info": {
   "codemirror_mode": {
    "name": "ipython",
    "version": 3
   },
   "file_extension": ".py",
   "mimetype": "text/x-python",
   "name": "python",
   "nbconvert_exporter": "python",
   "pygments_lexer": "ipython3",
   "version": "3.7.3"
  },
  "varInspector": {
   "cols": {
    "lenName": 16,
    "lenType": 16,
    "lenVar": 40
   },
   "kernels_config": {
    "python": {
     "delete_cmd_postfix": "",
     "delete_cmd_prefix": "del ",
     "library": "var_list.py",
     "varRefreshCmd": "print(var_dic_list())"
    },
    "r": {
     "delete_cmd_postfix": ") ",
     "delete_cmd_prefix": "rm(",
     "library": "var_list.r",
     "varRefreshCmd": "cat(var_dic_list()) "
    }
   },
   "types_to_exclude": [
    "module",
    "function",
    "builtin_function_or_method",
    "instance",
    "_Feature"
   ],
   "window_display": false
  }
 },
 "nbformat": 4,
 "nbformat_minor": 2
}
